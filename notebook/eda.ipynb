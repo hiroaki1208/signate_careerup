{
 "cells": [
  {
   "cell_type": "code",
   "execution_count": 14,
   "metadata": {},
   "outputs": [],
   "source": [
    "import pandas as pd\n",
    "import os, datetime"
   ]
  },
  {
   "cell_type": "code",
   "execution_count": 5,
   "metadata": {},
   "outputs": [],
   "source": [
    "# directory\n",
    "base_dir = os.path.join(os.getcwd(), '..')\n",
    "data_dir = os.path.join(base_dir, 'data')"
   ]
  },
  {
   "attachments": {},
   "cell_type": "markdown",
   "metadata": {},
   "source": [
    "- EDA"
   ]
  },
  {
   "cell_type": "code",
   "execution_count": 19,
   "metadata": {},
   "outputs": [
    {
     "name": "stdout",
     "output_type": "stream",
     "text": [
      "(27532, 16)\n"
     ]
    }
   ],
   "source": [
    "train = pd.read_csv( os.path.join(data_dir, 'input', 'train.csv') )\n",
    "# test = pd.read_csv( os.path.join(data_dir, 'test.csv') )\n",
    "# sample_sub = pd.read_csv( os.path.join(data_dir, 'submit_sample.csv') )\n",
    "\n",
    "print(train.shape)\n",
    "# print(test.shape)\n",
    "# print(sample_sub.shape)"
   ]
  },
  {
   "cell_type": "code",
   "execution_count": 28,
   "metadata": {},
   "outputs": [
    {
     "data": {
      "text/plain": [
       "id                 0\n",
       "region             0\n",
       "year               0\n",
       "manufacturer       0\n",
       "condition          0\n",
       "cylinders          0\n",
       "fuel            1239\n",
       "odometer           0\n",
       "title_status     456\n",
       "transmission       0\n",
       "drive              0\n",
       "size               0\n",
       "type             456\n",
       "paint_color        0\n",
       "state           3304\n",
       "price              0\n",
       "dtype: int64"
      ]
     },
     "metadata": {},
     "output_type": "display_data"
    },
    {
     "data": {
      "text/plain": [
       "id              0\n",
       "region          0\n",
       "year            0\n",
       "manufacturer    0\n",
       "condition       0\n",
       "cylinders       0\n",
       "fuel            0\n",
       "odometer        0\n",
       "title_status    0\n",
       "transmission    0\n",
       "drive           0\n",
       "size            0\n",
       "type            0\n",
       "paint_color     0\n",
       "state           0\n",
       "price           0\n",
       "dtype: int64"
      ]
     },
     "metadata": {},
     "output_type": "display_data"
    }
   ],
   "source": [
    "# train\n",
    "# train.info()\n",
    "display( train.isnull().sum() )\n",
    "\n",
    "tmp = train.fillna( train.median(numeric_only=True) )\n",
    "# tmp = train.fillna( train.median(numeric_only=False) ) # NG\n",
    "tmp = train.fillna( train.mode().iloc[0] )\n",
    "display( tmp.isnull().sum() )\n"
   ]
  },
  {
   "cell_type": "code",
   "execution_count": 30,
   "metadata": {},
   "outputs": [],
   "source": [
    "\n",
    "# display(train[train['fuel'].isnull()])\n",
    "# display(tmp[train['fuel'].isnull()])\n"
   ]
  },
  {
   "cell_type": "code",
   "execution_count": null,
   "metadata": {},
   "outputs": [],
   "source": []
  }
 ],
 "metadata": {
  "kernelspec": {
   "display_name": "env1",
   "language": "python",
   "name": "python3"
  },
  "language_info": {
   "codemirror_mode": {
    "name": "ipython",
    "version": 3
   },
   "file_extension": ".py",
   "mimetype": "text/x-python",
   "name": "python",
   "nbconvert_exporter": "python",
   "pygments_lexer": "ipython3",
   "version": "3.9.7"
  },
  "orig_nbformat": 4
 },
 "nbformat": 4,
 "nbformat_minor": 2
}
