{
 "cells": [
  {
   "cell_type": "code",
   "execution_count": 31,
   "metadata": {},
   "outputs": [],
   "source": [
    "import pandas as pd\n",
    "import os, datetime"
   ]
  },
  {
   "cell_type": "code",
   "execution_count": 32,
   "metadata": {},
   "outputs": [],
   "source": [
    "# directory\n",
    "base_dir = os.path.join(os.getcwd(), '..')\n",
    "data_dir = os.path.join(base_dir, 'data')"
   ]
  },
  {
   "attachments": {},
   "cell_type": "markdown",
   "metadata": {},
   "source": [
    "- EDA"
   ]
  },
  {
   "cell_type": "code",
   "execution_count": 64,
   "metadata": {},
   "outputs": [
    {
     "name": "stdout",
     "output_type": "stream",
     "text": [
      "(27532, 16)\n",
      "(27537, 15)\n"
     ]
    }
   ],
   "source": [
    "train = pd.read_csv( os.path.join(data_dir, 'input', 'train.csv') )\n",
    "test = pd.read_csv( os.path.join(data_dir, 'input', 'test.csv') )\n",
    "# sample_sub = pd.read_csv( os.path.join(data_dir, 'submit_sample.csv') )\n",
    "\n",
    "print(train.shape)\n",
    "print(test.shape)\n",
    "# print(sample_sub.shape)"
   ]
  },
  {
   "cell_type": "code",
   "execution_count": 34,
   "metadata": {},
   "outputs": [
    {
     "data": {
      "text/plain": [
       "id                 0\n",
       "region             0\n",
       "year               0\n",
       "manufacturer       0\n",
       "condition          0\n",
       "cylinders          0\n",
       "fuel            1239\n",
       "odometer           0\n",
       "title_status     456\n",
       "transmission       0\n",
       "drive              0\n",
       "size               0\n",
       "type             456\n",
       "paint_color        0\n",
       "state           3304\n",
       "price              0\n",
       "dtype: int64"
      ]
     },
     "metadata": {},
     "output_type": "display_data"
    }
   ],
   "source": [
    "# train\n",
    "# train.info()\n",
    "display( train.isnull().sum() )\n",
    "\n",
    "# fill NA\n",
    "# tmp = train.fillna( train.median(numeric_only=True) )\n",
    "# # tmp = train.fillna( train.median(numeric_only=False) ) # NG\n",
    "# tmp = train.fillna( train.mode().iloc[0] )\n",
    "# display( tmp.isnull().sum() )\n"
   ]
  },
  {
   "cell_type": "code",
   "execution_count": 61,
   "metadata": {},
   "outputs": [],
   "source": [
    "# dummy変数\n",
    "# train.describe()\n",
    "# train.info()\n",
    "adds = []\n",
    "for c in train.columns:\n",
    "    if train[c].dtype == 'object':\n",
    "        add = pd.get_dummies(train[c])\n",
    "        add.columns = [f'{c}_{i}' for i in add.columns]\n",
    "    else:\n",
    "        add = train[[c]]\n",
    "\n",
    "    adds.append(add)\n",
    "\n",
    "# # unique数\n",
    "# agg_d = dict( zip(train.columns, ['nunique']*len(train.columns)) )\n",
    "# display( train.agg(agg_d) )\n",
    "# # display( train['region'].value_counts() )"
   ]
  },
  {
   "cell_type": "code",
   "execution_count": 72,
   "metadata": {},
   "outputs": [],
   "source": [
    "# train, testの重複あり？\n",
    "# display(train.sample())\n",
    "# display(test.sample())\n",
    "\n",
    "adds0, adds1, adds2 = [],[],[]\n",
    "for c in test.columns:\n",
    "    train_col = list( train[c].unique() )\n",
    "    test_col = list( test[c].unique() )\n",
    "\n",
    "    only_train = list( set(train_col) - set(test_col) )\n",
    "    only_test = list( set(test_col) - set(train_col) )\n",
    "\n",
    "    # print('======')\n",
    "    # print(c)\n",
    "    # print(f'only train: {len(only_train)}')\n",
    "    # print(f'only test: {len(only_test)}')\n",
    "    adds0.append(c)\n",
    "    adds1.append(len(only_train))\n",
    "    adds2.append(len(only_test))\n",
    "\n",
    "res = pd.DataFrame(\n",
    "    [adds0, adds1, adds2],\n",
    "    index=['col_name', 'len_only_train', 'len_only_test']\n",
    ").T\n",
    "display(res)\n",
    "# sorted(train.year.unique())"
   ]
  },
  {
   "cell_type": "code",
   "execution_count": 49,
   "metadata": {},
   "outputs": [],
   "source": [
    "train.head().to_clipboard(index=False)"
   ]
  },
  {
   "cell_type": "code",
   "execution_count": 30,
   "metadata": {},
   "outputs": [],
   "source": [
    "\n",
    "# display(train[train['fuel'].isnull()])\n",
    "# display(tmp[train['fuel'].isnull()])\n"
   ]
  },
  {
   "cell_type": "code",
   "execution_count": null,
   "metadata": {},
   "outputs": [],
   "source": []
  }
 ],
 "metadata": {
  "kernelspec": {
   "display_name": "env1",
   "language": "python",
   "name": "python3"
  },
  "language_info": {
   "codemirror_mode": {
    "name": "ipython",
    "version": 3
   },
   "file_extension": ".py",
   "mimetype": "text/x-python",
   "name": "python",
   "nbconvert_exporter": "python",
   "pygments_lexer": "ipython3",
   "version": "3.9.7"
  },
  "orig_nbformat": 4
 },
 "nbformat": 4,
 "nbformat_minor": 2
}
